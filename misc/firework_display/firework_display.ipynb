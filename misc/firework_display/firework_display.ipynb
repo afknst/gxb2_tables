{
 "cells": [
  {
   "cell_type": "code",
   "execution_count": 2,
   "id": "c8423891",
   "metadata": {},
   "outputs": [
    {
     "name": "stdout",
     "output_type": "stream",
     "text": [
      "Current state = 200 000 000\n",
      "inf\t5.3690\t5.3690\t\n",
      "5.3690\t\u001b[91m5.3648\u001b[0m\t\u001b[91m5.3648\u001b[0m\t\n",
      "5.3690\t\u001b[91m5.3648\u001b[0m\t\u001b[91m5.3648\u001b[0m\t\n",
      "\n",
      "Current state = 122 121 000\n",
      "3.0107\tinf\tinf\t\n",
      "2.9600\tinf\t2.9600\t\n",
      "2.3594\t2.3164\t\u001b[91m2.2070\u001b[0m\t\n",
      "\n",
      "Current state = exit\n"
     ]
    }
   ],
   "source": [
    "from main import helper\n",
    "\n",
    "helper()"
   ]
  },
  {
   "cell_type": "code",
   "execution_count": null,
   "id": "d4a0f77b",
   "metadata": {},
   "outputs": [],
   "source": []
  }
 ],
 "metadata": {
  "kernelspec": {
   "display_name": "Python 3 (ipykernel)",
   "language": "python",
   "name": "python3"
  },
  "language_info": {
   "codemirror_mode": {
    "name": "ipython",
    "version": 3
   },
   "file_extension": ".py",
   "mimetype": "text/x-python",
   "name": "python",
   "nbconvert_exporter": "python",
   "pygments_lexer": "ipython3",
   "version": "3.9.10"
  }
 },
 "nbformat": 4,
 "nbformat_minor": 5
}
