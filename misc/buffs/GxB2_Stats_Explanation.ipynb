{
 "cells": [
  {
   "cell_type": "code",
   "execution_count": 1,
   "id": "35b9dd11",
   "metadata": {
    "ExecuteTime": {
     "end_time": "2021-08-16T10:21:07.041934Z",
     "start_time": "2021-08-16T10:21:07.031764Z"
    },
    "code_folding": [
     0
    ]
   },
   "outputs": [
    {
     "data": {
      "text/html": [
       "<style> \n",
       "body {\n",
       "  counter-reset: section subsection subsubsection;\n",
       "}\n",
       "\n",
       "h1 {\n",
       "  counter-reset: section subsection subsubsection;\n",
       "}\n",
       "\n",
       "h2 {\n",
       "  counter-reset: subsection subsubsection;\n",
       "}\n",
       "\n",
       "h2:before {\n",
       "    counter-increment: section;\n",
       "    content: counter(section) \". \";\n",
       "}\n",
       "    \n",
       "h3 {\n",
       "  counter-reset: subsubsection;\n",
       "}\n",
       "\n",
       "h3:before {\n",
       "    counter-increment: subsection;\n",
       "    content: counter(section) \".\" counter(subsection) \" \";\n",
       "}\n",
       "    \n",
       "h4:before {\n",
       "    counter-increment: subsubsection;\n",
       "    content: counter(section) \".\" counter(subsection) \".\" counter(subsubsection) \" \";\n",
       "}\n",
       "</style>\n"
      ],
      "text/plain": [
       "<IPython.core.display.HTML object>"
      ]
     },
     "metadata": {},
     "output_type": "display_data"
    }
   ],
   "source": [
    "%%html\n",
    "<style> \n",
    "body {\n",
    "  counter-reset: section subsection subsubsection;\n",
    "}\n",
    "\n",
    "h1 {\n",
    "  counter-reset: section subsection subsubsection;\n",
    "}\n",
    "\n",
    "h2 {\n",
    "  counter-reset: subsection subsubsection;\n",
    "}\n",
    "\n",
    "h2:before {\n",
    "    counter-increment: section;\n",
    "    content: counter(section) \". \";\n",
    "}\n",
    "    \n",
    "h3 {\n",
    "  counter-reset: subsubsection;\n",
    "}\n",
    "\n",
    "h3:before {\n",
    "    counter-increment: subsection;\n",
    "    content: counter(section) \".\" counter(subsection) \" \";\n",
    "}\n",
    "    \n",
    "h4:before {\n",
    "    counter-increment: subsubsection;\n",
    "    content: counter(section) \".\" counter(subsection) \".\" counter(subsubsection) \" \";\n",
    "}\n",
    "</style>"
   ]
  },
  {
   "cell_type": "markdown",
   "id": "27d9e8c5",
   "metadata": {},
   "source": [
    "<a id='TOP'></a>\n",
    "# GxB2 Stats Explanation\n",
    "\n",
    "1. [List of stats](#LIST)\n",
    "1. [Calculation rules](#RULE)\n",
    "1. [Order of buffs](#ORDER)\n",
    "1. [Damage formula](#FORMULA)"
   ]
  },
  {
   "cell_type": "markdown",
   "id": "32c071f7",
   "metadata": {},
   "source": [
    "<a id='LIST'></a>\n",
    "## List of stats\n",
    "\n",
    "There's a [complete list](https://github.com/afknst/gxb2_tables/blob/master/tables/buff.csv) that might be initially migrated from IH. Some stats are actually irrelevant.  \n",
    "The stats that will be discussed here are listed below.\n",
    "\n",
    "- The stats that show on the girl page:\n",
    "    - `Attack`\n",
    "    - `HP`\n",
    "    - `Armor`\n",
    "    - `Speed`\n",
    "    - `Precision`\n",
    "    - `Block`\n",
    "    - `Crit`\n",
    "    - `Crit_Resist`\n",
    "    - `Crit_DMG`\n",
    "    - `Armor_Brk`\n",
    "    - `Skill_DMG`\n",
    "    - `Holy_DMG`\n",
    "    - `Control_Rate`\n",
    "    - `CC_Immune`\n",
    "    - `DMG_Red`\n",
    "    - `DMG_Dep`\n",
    "- The stats that show in equipment and lab:\n",
    "    - `Energy`\n",
    "    - `Heal_Received`\n",
    "    - `Heal_Amount`\n",
    "    - `Warrior_Red`\n",
    "    - `Mage_Red`\n",
    "    - `Ranger_Red`\n",
    "    - `Assassin_Red`\n",
    "    - `Priest_Red`\n",
    "    - `DMG_Warrior`\n",
    "    - `DMG_Mage`\n",
    "    - `DMG_Ranger`\n",
    "    - `DMG_Assassin`\n",
    "    - `DMG_Priest`\n",
    "    \n",
    "Note that some \"buffs\" shown in equipment are actually implemented using \"skills\".  \n",
    "Those won't be discussed here (e.g. Sacred Vial, Burning Blades, etc.)."
   ]
  },
  {
   "cell_type": "markdown",
   "id": "452b620b",
   "metadata": {
    "ExecuteTime": {
     "end_time": "2021-08-16T06:49:39.149281Z",
     "start_time": "2021-08-16T06:49:39.142705Z"
    }
   },
   "source": [
    "<a id='RULE'></a>\n",
    "## Calculation rules\n",
    "1. [Additive rule](#ADD)\n",
    "1. [Multiplicative rule](#MUL)\n",
    "1. [Mixed rule](#MIXED)\n",
    "1. [Bounds of stats](#BOUND)"
   ]
  },
  {
   "cell_type": "markdown",
   "id": "17eba59c",
   "metadata": {
    "ExecuteTime": {
     "end_time": "2021-08-16T06:49:39.149281Z",
     "start_time": "2021-08-16T06:49:39.142705Z"
    }
   },
   "source": [
    "<a id='ADD'></a>\n",
    "### Additive rule\n",
    "\n",
    "All stats except those mentioned in [Multiplicative rule](#MUL) and [Mixed rule](#MIXED) are using the additive rule, e.g.  \n",
    ">A girl initially has 20% Block, then she receives a buff that adds 30% Block. She has 50% Block now."
   ]
  },
  {
   "cell_type": "markdown",
   "id": "219f1134",
   "metadata": {
    "ExecuteTime": {
     "end_time": "2021-08-16T06:49:39.149281Z",
     "start_time": "2021-08-16T06:49:39.142705Z"
    }
   },
   "source": [
    "<a id='MUL'></a>\n",
    "### Multiplicative rule\n",
    "\n",
    "The stats below are using the multiplicative rule:\n",
    "- `Heal_Received`\n",
    "- `Heal_Amount`\n",
    "- `Warrior_Red`\n",
    "- `Mage_Red`\n",
    "- `Ranger_Red`\n",
    "- `Assassin_Red`\n",
    "- `Priest_Red`\n",
    "- `DMG_Warrior`\n",
    "- `DMG_Mage`\n",
    "- `DMG_Ranger`\n",
    "- `DMG_Assassin`\n",
    "- `DMG_Priest`\n",
    "\n",
    "E.g.\n",
    ">Alice has 1000 max HP and 0% Heal_Received (no buff), then she receives the buffs `Heal_Received +10%` and `Heal_Received +30%`. Her Heal_Received will now be multiplied by `1.1 * 1.3 = 1.43`.  \n",
    ">\n",
    ">Bob has 0% Heal_Amount, then he successively receives the buffs `Heal_Amount +10%`, `Heal_Amount +20%`. His Heal_Amount will now be multiplied by `1.1 * 1.2 = 1.21`. \n",
    ">\n",
    ">Now if Bob heals Alice with 15% of Alice's max HP, the final HP amount to be recovered by Alice is calculated as below:"
   ]
  },
  {
   "cell_type": "code",
   "execution_count": 2,
   "id": "2e8749e8",
   "metadata": {
    "ExecuteTime": {
     "end_time": "2021-08-16T10:21:07.056714Z",
     "start_time": "2021-08-16T10:21:07.043182Z"
    }
   },
   "outputs": [
    {
     "name": "stdout",
     "output_type": "stream",
     "text": [
      "258\n"
     ]
    }
   ],
   "source": [
    "from math import floor\n",
    "\n",
    "Heal_Amount = floor(1000 * 0.15)\n",
    "Heal_Amount = floor(Heal_Amount * 1.21)\n",
    "Heal_Amount = floor(Heal_Amount * 1.43)\n",
    "\n",
    "print(Heal_Amount) # 258, note that this value will be bounded by Alice's max HP minus Alice's current HP."
   ]
  },
  {
   "cell_type": "markdown",
   "id": "9bfa29b8",
   "metadata": {
    "ExecuteTime": {
     "end_time": "2021-08-16T06:49:39.149281Z",
     "start_time": "2021-08-16T06:49:39.142705Z"
    }
   },
   "source": [
    "<a id='MIXED'></a>\n",
    "### Mixed rule\n",
    "The three base stats are using both additive and multiplicative rules:\n",
    "- `Attack`\n",
    "- `HP`\n",
    "- `Armor`\n",
    "\n",
    "For these three buffs, the additive part and the multiplicative part are calculated separately, e.g.  \n",
    ">A girl initially has 100 HP, then she successively receives the buffs below:\n",
    ">1. `HP +100`\n",
    ">1. `HP +10%`\n",
    ">1. `HP +20`\n",
    ">1. `HP +30`\n",
    ">1. `HP +30%`\n",
    ">1. `HP +30%`\n",
    ">\n",
    ">Her final HP is given by the code below:"
   ]
  },
  {
   "cell_type": "code",
   "execution_count": 3,
   "id": "d1f48c57",
   "metadata": {
    "ExecuteTime": {
     "end_time": "2021-08-16T10:21:07.064821Z",
     "start_time": "2021-08-16T10:21:07.061170Z"
    }
   },
   "outputs": [
    {
     "name": "stdout",
     "output_type": "stream",
     "text": [
      "464\n"
     ]
    }
   ],
   "source": [
    "from math import floor\n",
    "\n",
    "HP = floor(100)\n",
    "\n",
    "for HP_ADD in [100, 20, 30]:\n",
    "    HP += floor(HP_ADD)\n",
    "\n",
    "for HP_MUL in [0.1, 0.3, 0.3]:\n",
    "    HP = floor(HP * (1 + HP_MUL))\n",
    "\n",
    "print(HP) # 464"
   ]
  },
  {
   "cell_type": "markdown",
   "id": "d5b3dc0c",
   "metadata": {},
   "source": [
    "<a id='BOUND'></a>\n",
    "### Bounds of stats\n",
    "\n",
    "Some stats have upper/lower bounds. See the [in-game Help](#HELP) for details.\n",
    "\n",
    "Note that the bounds are applied when the corresponding stats are being used instead of being assigned. E.g.\n",
    ">A girl initially has 100% Armor_Brk, then she receives a buff that adds 20% Armor_Brk and a debuff that reduces 30% Armor_Brk.  \n",
    ">Her Armor_Brk now is 90% instead of 70%."
   ]
  },
  {
   "cell_type": "markdown",
   "id": "ea043d78",
   "metadata": {},
   "source": [
    "<a id='ORDER'></a>\n",
    "## Order of buffs"
   ]
  },
  {
   "cell_type": "markdown",
   "id": "90df2767",
   "metadata": {},
   "source": [
    "<a id='FORMULA'></a>\n",
    "## Damage formula"
   ]
  },
  {
   "cell_type": "markdown",
   "id": "85b08d0b",
   "metadata": {},
   "source": [
    "<a id='HELP'></a>\n",
    "## Battle (in-game Help)\n",
    "\n",
    "### Battle Line-Up\n",
    "Girls positioned in the Front Row will take more damage than Girls in the Back Row. Adjust the Girls' positions according to their Class so that the whole team survives longer.\n",
    "\n",
    "### Faction Rivalry\n",
    "Faction Rivalry gives boosts to Girls when fighting against specific Factions. Deploy Girls based on the boosts they will gain from fighting against your opponent's Faction.\n",
    "\n",
    "### Faction Aura\n",
    "Certain Faction combinations will give Aura boosts to all of your Girls in battle.\n",
    "\n",
    "### Victory or Defeat\n",
    "Defeat all your opponents' Girls within 15 Rounds for a Victory. Failure to finish within 15 rounds will result in a Defeat.\n",
    "\n",
    "### Attack\n",
    "Attack refers to the damage dealt to enemies. The higher Attack a Girl has, the more damage she will deal in an attack.\n",
    "\n",
    "### HP\n",
    "HP allows Girls to survive longer in Battle.\n",
    "\n",
    "### Armor\n",
    "Armor helps to reduce damage from your opponents.\n",
    "\n",
    "### Speed\n",
    "Speed determines the order that Girls attack in battle. Higher Speed allows Girls to attack first every round. If girls on the same team have equal Speed, the girl closest to the front first position will move first.\n",
    "\n",
    "### Extra Skill Damage\n",
    "Extra Skill Damage gives bonus damage to skill attacks, boosts the damage rate that is based on the characters' Attack attribute in Active skills only.\n",
    "\n",
    "### Block\n",
    "Block determines the probability of blocking an attack. Blocking an attack successfully will reduce 30% of the damage taken; if the attack was a critical strike, blocking will reduce 50% of the damage taken. Only damage based on the Attack of the attacker will be reduced by blocking.\n",
    "\n",
    "### Precision\n",
    "Precision lowers the probability of the target blocking an attack. Furthermore, every 1% of Precision will grant an extra 0.3% of damage. The extra damage will max out at 45%. Only damage based on the Attack of the attacker will be increased.\n",
    "\n",
    "### Crit Resist\n",
    "Reduce the chance to take Critical hits, the higher a girl's Crit Resist is, the less likely she's going to take a Critical hit.\n",
    "\n",
    "### Crit Rate\n",
    "Crit Rate determines the probability of performing a critical strike against an opponent, dealing significantly increased damage. Without extra Crit damage increases, a Critical Strike will cause 150% damage of a normal attack. Passive skills will not trigger Crit attacks.\n",
    "\n",
    "### Crit Damage\n",
    "Crit Damage determines how much extra damage is dealt when performing a critical strike. The highest Crit Damage that an attack can have is 150%.\n",
    "\n",
    "### Armor Break\n",
    "Armor Break decreases your opponents' Armor, allowing you to deal more damage to the opponent. The maximum amount of Armor Break that can be reached is 100%.\n",
    "\n",
    "### Immunity\n",
    "Immunity helps against attacks that restrict your Girls, like Petrify, Freeze, and Stun. Immunity is calculated differently from the control effect chances: for example, an attack with a 50% chance to restrict a girl may be possible to control a girl with 70% Immunity.\n",
    "\n",
    "### Control Rate\n",
    "Increases the rate the enemy will be affected by your control skills. This status will be calculated together with the target's Immunity.\n",
    "\n",
    "### Damage Reduction\n",
    "Damage Reduction reduces the amount of damage inflicted by opponents, helping your Girls to survive longer. It will max out at 70%, and only works on damage based on the Attack of the attacker.\n",
    "\n",
    "### Holy Damage\n",
    "Holy Damage will not be affected by the armor of the target, but will be affected by Damage Reduction.\n",
    "\n",
    "### Damage Depletion\n",
    "Reduces all damages received and is calculated separately from Damage Reduction. 70% Damage Depletion maximum is obtainable by a Girl.\n",
    "\n",
    "### Dodge\n",
    "Provides Girls chance to avoid damages from enemies' Active Skills and Basic Attacks.(Servant's Active skill cannot be dodged)\n",
    "\n",
    "### Energy\n",
    "Every girl starts with 50 Energy when the battle begins. A girl will gain 50 Energy when she attacks the enemy, and will gain 10 Energy when she is attacked. If she takes a Critical strike, she will gain 20 Energy. A girl can only use her active skill when she has 100 or more Energy. When she has more than 100 Energy, every extra Energy will be counted as 1% of Extra Skill Damage.\n",
    "\n",
    "### The color of DMG\n",
    "If it's white, it means this attack doesn't trigger Crit attack and the attacker doesn't have Faction Rivalry buff. If it's yellow, it means this attack doesn't trigger Crit attack and the attacker is buffed by Faction Rivalry. If it's red, it means this attack is a Crit attack (the attack can be either buffed by Faction Rivalry or not). And if it's green, it's showing the healing amount.\n",
    "\n",
    "### Skill Effect\n",
    "Buffs or debuffs labeled with “Skill effect” cannot be removed by Potential or Skills."
   ]
  }
 ],
 "metadata": {
  "kernelspec": {
   "display_name": "Python 3 (ipykernel)",
   "language": "python",
   "name": "python3"
  },
  "language_info": {
   "codemirror_mode": {
    "name": "ipython",
    "version": 3
   },
   "file_extension": ".py",
   "mimetype": "text/x-python",
   "name": "python",
   "nbconvert_exporter": "python",
   "pygments_lexer": "ipython3",
   "version": "3.8.10"
  }
 },
 "nbformat": 4,
 "nbformat_minor": 5
}
