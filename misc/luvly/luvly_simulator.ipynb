{
 "cells": [
  {
   "cell_type": "markdown",
   "id": "de575b04",
   "metadata": {},
   "source": [
    "# Tiles indexing\n",
    "![Tiles indexing](luvly.jpg)\n",
    "\n",
    "# Conch\n",
    "1.\tAirdrop Supply\tGet 1 Customized Resource Chest\n",
    "2.\tClear Sky\t+1 level for a random resource blocks (If the blocks are not at max level)\n",
    "3.\tDown the Wind\tYou will move double distance for the next (Advanced) Rudder\n",
    "4.\tDouble Pleasure\tYou next (Advanced) Rudder used will be activated twice (only 1 Rudder will be used)\n",
    "5.\tLuck Up\tYou will get double amount of Coral Branches the next time you pass or land at a Coral Tree!\n",
    "6.\tRainy\t-1 level for a random resource blocks (will not affect the blocks at level 1)\n",
    "7.\tWaves\tIf you land at a resource block in your next move, the resource on that block will be missing.\n",
    "8.\tDamuber Triangle\tMove backwards in your next turn. (No rewards or upgrade will be received in this turn).\n",
    "9.\tCapsuGirl's Pet\tCapsuGirl wants her pet to return, Luvly will return to the starting point because of this.\n",
    "\n",
    "## In simulation:\n",
    "\n",
    "- 1, 2, 6, 7: Nothing will happen.\n",
    "- 3, 4: Both will be equal to 3 (double distance)."
   ]
  },
  {
   "cell_type": "code",
   "execution_count": 1,
   "id": "23175d37",
   "metadata": {
    "ExecuteTime": {
     "end_time": "2021-08-29T12:39:39.839129Z",
     "start_time": "2021-08-29T12:39:36.955270Z"
    }
   },
   "outputs": [],
   "source": [
    "from luvly_simulator import Luvly, guide, res_analyse, luvly_helper, benchmark"
   ]
  },
  {
   "cell_type": "markdown",
   "id": "39fdecc2",
   "metadata": {},
   "source": [
    "# Estimation"
   ]
  },
  {
   "cell_type": "code",
   "execution_count": 2,
   "id": "d68bcd61",
   "metadata": {
    "ExecuteTime": {
     "end_time": "2021-08-29T12:39:42.227125Z",
     "start_time": "2021-08-29T12:39:39.840456Z"
    }
   },
   "outputs": [
    {
     "name": "stdout",
     "output_type": "stream",
     "text": [
      "=====Coral=====\n",
      "170:\t0.996\n",
      "200:\t0.888\n",
      "230:\t0.392\n",
      "260:\t0.043\n",
      "300:\t0.0\n",
      "340:\t0.0\n",
      "mean:\t224.573\n",
      "std:\t20.918094344370857\n",
      "min:\t154\n",
      "max:\t295\n"
     ]
    },
    {
     "data": {
      "image/png": "[encoded data removed]",
      "text/plain": [
       "<Figure size 432x288 with 1 Axes>"
      ]
     },
     "metadata": {
      "needs_background": "light"
     },
     "output_type": "display_data"
    },
    {
     "name": "stdout",
     "output_type": "stream",
     "text": [
      "=====Pearl=====\n",
      "140:\t0.955\n",
      "180:\t0.781\n",
      "220:\t0.436\n",
      "260:\t0.16\n",
      "300:\t0.039\n",
      "340:\t0.003\n",
      "mean:\t212.585\n",
      "std:\t45.70276550713315\n",
      "min:\t90\n",
      "max:\t350\n"
     ]
    },
    {
     "data": {
      "image/png": "[encoded data removed]",
      "text/plain": [
       "<Figure size 432x288 with 1 Axes>"
      ]
     },
     "metadata": {
      "needs_background": "light"
     },
     "output_type": "display_data"
    }
   ],
   "source": [
    "# This is the default value\n",
    "START = {\n",
    "    \"RUDDER\": 78,  # 0-108\n",
    "    \"ADV_RUDDER\": 0,  # 0-2\n",
    "    \"TILE\": 0,  # 0-20, see Tiles indexing\n",
    "    \"CORAL\": 0,  # 0-400\n",
    "    \"PEARL\": 0,  # 0-400\n",
    "    \"CORAL_LEVELS\": (1, 1, 1),  # 1-3 for each\n",
    "    \"CONCH\": None,  # None or 1-9, see Conch\n",
    "}\n",
    "\n",
    "N_SIM = 1000  # will take about 3 seconds\n",
    "\n",
    "L = Luvly(start=START)\n",
    "RES_BENCHMARK = L.sim(benchmark, N_SIM)\n",
    "res_analyse(RES_BENCHMARK)"
   ]
  },
  {
   "cell_type": "markdown",
   "id": "22acf9c4",
   "metadata": {},
   "source": [
    "# Guide"
   ]
  },
  {
   "cell_type": "code",
   "execution_count": 3,
   "id": "008d743f",
   "metadata": {
    "ExecuteTime": {
     "end_time": "2021-08-29T12:39:53.001168Z",
     "start_time": "2021-08-29T12:39:42.228874Z"
    },
    "scrolled": false
   },
   "outputs": [
    {
     "name": "stdout",
     "output_type": "stream",
     "text": [
      "\n",
      "===========Current Status===========\n",
      "Tile:\t0\t\n",
      "Rudder:\t78\tAdv. Rudder:\t0\n",
      "Coral:\t0\tPearl:\t\t0\n",
      "Coral levels:\t[1 1 1]\n",
      "===========Current Status===========\n",
      "\n",
      "Estimate:\n",
      "\tAVERAGE CORAL: 223.95 ± 1.34\n",
      "\tAVERAGE PEARL: 213.62 ± 2.81\n",
      "\n",
      "No Adv. Rudder. Please use Rudder.\n",
      "Rolled = ? (1-6) q\n",
      "\n",
      "I'm fine.\n",
      "Exit the current cell.\n"
     ]
    },
    {
     "ename": "IpyExit",
     "evalue": "",
     "output_type": "error",
     "traceback": [
      "An exception has occurred, use %tb to see the full traceback.\n",
      "\u001b[0;31mIpyExit\u001b[0m\n"
     ]
    }
   ],
   "source": [
    "# This is the default value\n",
    "START = {\n",
    "    \"RUDDER\": 78,  # 0-108\n",
    "    \"ADV_RUDDER\": 0,  # 0-2\n",
    "    \"TILE\": 0,  # 0-20, see Tiles indexing\n",
    "    \"CORAL\": 0,  # 0-400\n",
    "    \"PEARL\": 0,  # 0-400\n",
    "    \"CORAL_LEVELS\": (1, 1, 1),  # 1-3 for each\n",
    "    \"CONCH\": None,  # None or 1-9, see Conch\n",
    "}\n",
    "\n",
    "L = Luvly(start=START)\n",
    "\n",
    "# Input 'q' to exit.\n",
    "guide(L, luvly_helper)"
   ]
  }
 ],
 "metadata": {
  "kernelspec": {
   "display_name": "Python 3 (ipykernel)",
   "language": "python",
   "name": "python3"
  },
  "language_info": {
   "codemirror_mode": {
    "name": "ipython",
    "version": 3
   },
   "file_extension": ".py",
   "mimetype": "text/x-python",
   "name": "python",
   "nbconvert_exporter": "python",
   "pygments_lexer": "ipython3",
   "version": "3.8.10"
  }
 },
 "nbformat": 4,
 "nbformat_minor": 5
}
